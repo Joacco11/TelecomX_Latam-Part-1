{
  "nbformat": 4,
  "nbformat_minor": 0,
  "metadata": {
    "colab": {
      "provenance": [],
      "toc_visible": true,
      "authorship_tag": "ABX9TyOgeCZojTzpRxx6fR5atthC",
      "include_colab_link": true
    },
    "kernelspec": {
      "name": "python3",
      "display_name": "Python 3"
    },
    "language_info": {
      "name": "python"
    }
  },
  "cells": [
    {
      "cell_type": "markdown",
      "metadata": {
        "id": "view-in-github",
        "colab_type": "text"
      },
      "source": [
        "<a href=\"https://colab.research.google.com/github/Joacco11/TelecomX_Latam-Part-1/blob/main/TelecomX_Latam.ipynb\" target=\"_parent\"><img src=\"https://colab.research.google.com/assets/colab-badge.svg\" alt=\"Open In Colab\"/></a>"
      ]
    },
    {
      "cell_type": "markdown",
      "source": [
        "#Telecom X - Análisis de Evasión de Clientes"
      ],
      "metadata": {
        "id": "nk3awcwBNgjz"
      }
    },
    {
      "cell_type": "markdown",
      "source": [
        "##📌 Extracción(E - Extract)"
      ],
      "metadata": {
        "id": "HxH7yZHGNn_b"
      }
    },
    {
      "cell_type": "code",
      "source": [],
      "metadata": {
        "id": "bEOMYBcePvZU"
      },
      "execution_count": null,
      "outputs": []
    },
    {
      "cell_type": "markdown",
      "source": [
        "##🔧 Transformación (T - Transform)"
      ],
      "metadata": {
        "id": "BhZg00RfN3Cy"
      }
    },
    {
      "cell_type": "markdown",
      "source": [
        "###Conoce el conjunto de Datos"
      ],
      "metadata": {
        "id": "zgGM5iIyP3UT"
      }
    },
    {
      "cell_type": "markdown",
      "source": [
        "###Solución de Incoherencias"
      ],
      "metadata": {
        "id": "dmWblNKIQFeH"
      }
    },
    {
      "cell_type": "markdown",
      "source": [
        "###Columna de Cuentas Diarias"
      ],
      "metadata": {
        "id": "Nkxc3-CCQIxn"
      }
    },
    {
      "cell_type": "markdown",
      "source": [
        "###Estandarización y transformación de los Datos"
      ],
      "metadata": {
        "id": "BGUfHWZZQI4v"
      }
    },
    {
      "cell_type": "markdown",
      "source": [
        "##📊 Carga y análisis(L - Load & Analysis)"
      ],
      "metadata": {
        "id": "lRdgX-yUNye5"
      }
    },
    {
      "cell_type": "markdown",
      "source": [
        "###Análisis Descriptivo"
      ],
      "metadata": {
        "id": "cdGnB-tRQtmI"
      }
    },
    {
      "cell_type": "markdown",
      "source": [
        "###Distribución de Evasión"
      ],
      "metadata": {
        "id": "HtXQ-XvHQtzh"
      }
    },
    {
      "cell_type": "markdown",
      "source": [
        "###Recuento de evasión por categoricas"
      ],
      "metadata": {
        "id": "dpnqIBPTQt9d"
      }
    },
    {
      "cell_type": "markdown",
      "source": [
        "###Recuento de evasión por numéricas"
      ],
      "metadata": {
        "id": "6oMlLSQjQuEW"
      }
    },
    {
      "cell_type": "markdown",
      "source": [
        "###Informe Final"
      ],
      "metadata": {
        "id": "Hst-y_-JQuLf"
      }
    },
    {
      "cell_type": "markdown",
      "source": [
        "##EXTRA"
      ],
      "metadata": {
        "id": "TgM_0IumOknR"
      }
    },
    {
      "cell_type": "markdown",
      "source": [
        "###Análisis de correlación entre variables"
      ],
      "metadata": {
        "id": "p_AMmv2YRSBf"
      }
    }
  ]
}